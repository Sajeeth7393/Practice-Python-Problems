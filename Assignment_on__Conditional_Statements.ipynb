{
  "nbformat": 4,
  "nbformat_minor": 0,
  "metadata": {
    "colab": {
      "provenance": []
    },
    "kernelspec": {
      "name": "python3",
      "display_name": "Python 3"
    },
    "language_info": {
      "name": "python"
    }
  },
  "cells": [
    {
      "cell_type": "markdown",
      "source": [
        "Take three numbers 'x', 'y' and 'z' as input from the user and check which number is greater\n"
      ],
      "metadata": {
        "id": "AcR_27Hh5QTe"
      }
    },
    {
      "cell_type": "code",
      "source": [
        "x=int(input(\"Enter the value of x \"))\n",
        "y=int(input(\"Enter the value of y \"))\n",
        "z=int(input(\"Enter the value of z \"))\n",
        "if x>y and x>z:\n",
        "  print(\"x is greater\")\n",
        "elif y>x and y>z:\n",
        "  print(\"y is greater\")\n",
        "else:\n",
        "  print(\"z is graeter\")"
      ],
      "metadata": {
        "id": "oPqQuu_anHz8",
        "colab": {
          "base_uri": "https://localhost:8080/"
        },
        "outputId": "82788155-4519-409a-8ff1-34adc16be873"
      },
      "execution_count": null,
      "outputs": [
        {
          "output_type": "stream",
          "name": "stdout",
          "text": [
            "Enter the value of x 25\n",
            "Enter the value of y 35\n",
            "Enter the value of z 1\n",
            "y is greater\n"
          ]
        }
      ]
    },
    {
      "cell_type": "markdown",
      "source": [
        "Take an alphabet as input from the user and check if the alphabet is a vowel, consonant or an exception\n",
        "\n",
        "\n",
        "Vowel - 'a','e','i','o','u'\n",
        "\n",
        "Exception - 'h', 'y'\n",
        "\n",
        "Consonant - rest other alphabets "
      ],
      "metadata": {
        "id": "QgkCsQlx4c5Y"
      }
    },
    {
      "cell_type": "code",
      "source": [
        "alp=input(\"Enter the desired Character \")\n",
        "if alp == \"a\" or alp == \"e\" or alp == \"i\" or alp ==\"o\" or alp == \"u\":\n",
        "  print(\"The Alphabet is Vowel \")\n",
        "elif alp == \"h\" or alp == \"y\":\n",
        "  print(\"The alphabet is Exception \")\n",
        "else:\n",
        "  print(\"The alphabet is Consonant \")"
      ],
      "metadata": {
        "id": "9Y6tsESAMBpk",
        "colab": {
          "base_uri": "https://localhost:8080/"
        },
        "outputId": "8350012f-a154-4f72-e29a-6f3d7fb5a53f"
      },
      "execution_count": null,
      "outputs": [
        {
          "output_type": "stream",
          "name": "stdout",
          "text": [
            "Enter the desired Character h\n",
            "The alphabet is Exception \n"
          ]
        }
      ]
    },
    {
      "cell_type": "markdown",
      "source": [
        "Write a program to check whether a number given by a user is divisible by 2 and 3 both "
      ],
      "metadata": {
        "id": "5TqcIsuG4N4x"
      }
    },
    {
      "cell_type": "code",
      "source": [
        "num=int(input(\"Enter the number \"))\n",
        "if num%2==0 and num%3==0:\n",
        "  print(\"Given number is divisible by both 2 and 3 \")\n",
        "else:\n",
        "  print(\"Given number is not Divisible by both 2 and 3 \")"
      ],
      "metadata": {
        "id": "1TobEmuY4NkT",
        "colab": {
          "base_uri": "https://localhost:8080/"
        },
        "outputId": "9b01b8ce-7a0b-4c5c-c8f7-3630df304b23"
      },
      "execution_count": null,
      "outputs": [
        {
          "output_type": "stream",
          "name": "stdout",
          "text": [
            "Enter the number 45\n",
            "Given number is not Divisible by both 2 and 3 \n"
          ]
        }
      ]
    },
    {
      "cell_type": "markdown",
      "source": [
        "Write a program to accept the cost price  of a bike as input and display the road tax to be paid according to the following crieteria :-\n",
        "\n",
        "Cost price - 100000 Tax - 15%\n",
        "\n",
        "Cost price - between 50000 to 100000 Tax - 10%\n",
        "\n",
        "Cost price - less than 50000 Tax - 5%"
      ],
      "metadata": {
        "id": "Vl0l7eM93o-k"
      }
    },
    {
      "cell_type": "code",
      "source": [
        "cost=int(input(\"Enter the price of Bike \"))\n",
        "if cost>=100000:\n",
        "  print(\"Tax for the bike is \", cost*0.15)\n",
        "elif 50000<=cost<=100000:\n",
        "  print(\"Tax for the bike is \", cost*0.10)\n",
        "else:\n",
        "  print(\"Tax for the bike is \", cost*0.05)"
      ],
      "metadata": {
        "id": "TdHw-M2Z3lkL",
        "colab": {
          "base_uri": "https://localhost:8080/"
        },
        "outputId": "85f83994-19e8-49cb-c855-5a593bf6f728"
      },
      "execution_count": null,
      "outputs": [
        {
          "output_type": "stream",
          "name": "stdout",
          "text": [
            "Enter the price of Bike 250000\n",
            "Tax for the bike is  37500.0\n"
          ]
        }
      ]
    },
    {
      "cell_type": "markdown",
      "source": [
        "Write a program to calculate the electricity bill by accepting the number of units consumed by the user as input. Use the following price chart for reference :-\n",
        "\n",
        "Price of first 100 units - no charge\n",
        "\n",
        "Price of next 100 units - Rs 5/- per unit\n",
        "\n",
        "After 200 units - Rs 10/- per unit"
      ],
      "metadata": {
        "id": "4qwB-dyV2vdv"
      }
    },
    {
      "cell_type": "code",
      "execution_count": null,
      "metadata": {
        "id": "9CRK7oBa2rjP",
        "colab": {
          "base_uri": "https://localhost:8080/"
        },
        "outputId": "fa706cb6-e3c9-4f4b-dfde-b50b9142dac0"
      },
      "outputs": [
        {
          "output_type": "stream",
          "name": "stdout",
          "text": [
            "Enter the Unit consumed 253\n",
            "The Elecricity Bill is  1030\n"
          ]
        }
      ],
      "source": [
        "unit=int(input(\"Enter the Unit consumed \"))\n",
        "if unit<=100:\n",
        "  print(\"There is no charge for Elecricity\")\n",
        "elif 100<=unit<=200:\n",
        "  print(\"The Elecricity Bill is \", (unit-100)*5)\n",
        "else:\n",
        "  print(\"The Elecricity Bill is \", (unit-200)*10+500)"
      ]
    },
    {
      "cell_type": "code",
      "source": [],
      "metadata": {
        "id": "BcQWopYqcxHP"
      },
      "execution_count": null,
      "outputs": []
    }
  ]
}