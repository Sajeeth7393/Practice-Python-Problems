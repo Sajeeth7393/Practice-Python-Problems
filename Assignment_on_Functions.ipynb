{
  "nbformat": 4,
  "nbformat_minor": 0,
  "metadata": {
    "colab": {
      "provenance": []
    },
    "kernelspec": {
      "name": "python3",
      "display_name": "Python 3"
    },
    "language_info": {
      "name": "python"
    }
  },
  "cells": [
    {
      "cell_type": "markdown",
      "source": [
        "Define a function that accepts a number and returns whether the number is even or odd."
      ],
      "metadata": {
        "id": "SA0zwy1HTiK-"
      }
    },
    {
      "cell_type": "code",
      "source": [
        "def num(a):\n",
        "  if a%2==0:\n",
        "    print(\" The Given number is even \")\n",
        "  else:\n",
        "    print(\"The Given number is Odd \")"
      ],
      "metadata": {
        "id": "c7NLSUKot7Nm"
      },
      "execution_count": null,
      "outputs": []
    },
    {
      "cell_type": "code",
      "source": [
        "num(5)"
      ],
      "metadata": {
        "colab": {
          "base_uri": "https://localhost:8080/"
        },
        "id": "8ZeMg-B8t6s1",
        "outputId": "8bed9b91-1106-4ed3-db28-00e100a0d9c2"
      },
      "execution_count": null,
      "outputs": [
        {
          "output_type": "stream",
          "name": "stdout",
          "text": [
            "The Given number is Odd \n"
          ]
        }
      ]
    },
    {
      "cell_type": "markdown",
      "source": [
        "Define a function to create and print a list where the values are square of numbers between 1 and 30 (both included)."
      ],
      "metadata": {
        "id": "eFB9qeBSTxRd"
      }
    },
    {
      "cell_type": "code",
      "source": [
        "def num(a):\n",
        "  lst=[]\n",
        "  for i in range(1,a+1):\n",
        "    sq=i*i\n",
        "    lst.append(sq)\n",
        "  print(lst)    "
      ],
      "metadata": {
        "id": "b3L3dc_Lus2v"
      },
      "execution_count": null,
      "outputs": []
    },
    {
      "cell_type": "code",
      "source": [
        "num(30)"
      ],
      "metadata": {
        "colab": {
          "base_uri": "https://localhost:8080/"
        },
        "id": "hFaj8C4bwS7t",
        "outputId": "fca0d7a5-e24d-4a91-d4b7-d814b15983f6"
      },
      "execution_count": null,
      "outputs": [
        {
          "output_type": "stream",
          "name": "stdout",
          "text": [
            "[1, 4, 9, 16, 25, 36, 49, 64, 81, 100, 121, 144, 169, 196, 225, 256, 289, 324, 361, 400, 441, 484, 529, 576, 625, 676, 729, 784, 841, 900]\n"
          ]
        }
      ]
    },
    {
      "cell_type": "markdown",
      "source": [
        "Define a function, shut_down, that takes one parameter. Then, if the shut_down function receives a value equal to \"yes\", it should print \"Shutting down\". Alternatively, if vallue is equal to \"no\", then the function should print \"Shutdown aborted\". Finally, if shut_down gets anything other than those inputs, the function should print \"Sorry\"."
      ],
      "metadata": {
        "id": "WPKsEW0dUIZF"
      }
    },
    {
      "cell_type": "code",
      "source": [
        "def shut_down(value):\n",
        "  if value=='yes':\n",
        "    print(\"Shutting Down \")\n",
        "  elif value=='no':\n",
        "    print(\"Shutting aborted \")\n",
        "  else:\n",
        "    print(\"Sorry\")"
      ],
      "metadata": {
        "id": "beVKggGv1dLk"
      },
      "execution_count": null,
      "outputs": []
    },
    {
      "cell_type": "code",
      "source": [
        "shut_down('123')"
      ],
      "metadata": {
        "colab": {
          "base_uri": "https://localhost:8080/"
        },
        "id": "JamUhhHd3RoH",
        "outputId": "19c596ae-8be7-41e7-9e9e-2faccc315d2c"
      },
      "execution_count": null,
      "outputs": [
        {
          "output_type": "stream",
          "name": "stdout",
          "text": [
            "Sorry\n"
          ]
        }
      ]
    },
    {
      "cell_type": "markdown",
      "source": [
        " \n",
        "\n",
        "Define a function called \"by_three\" that takes a parameter called number. If that number is divisible by 3, \"by_three\" should print the cube of the number. Otherwise, by_three should print False."
      ],
      "metadata": {
        "id": "KosfqTW8Ur_1"
      }
    },
    {
      "cell_type": "code",
      "source": [
        "def by_three(num):\n",
        "  if num%3==0:\n",
        "    print(\"cube is \", num**3)\n",
        "  else:\n",
        "    print('False')"
      ],
      "metadata": {
        "id": "UrINL8HK4g_5"
      },
      "execution_count": null,
      "outputs": []
    },
    {
      "cell_type": "code",
      "source": [
        "by_three(12)"
      ],
      "metadata": {
        "colab": {
          "base_uri": "https://localhost:8080/"
        },
        "id": "8Z99eoyl5Lj8",
        "outputId": "242dcf01-4dd7-4dfc-839b-aae211924b93"
      },
      "execution_count": null,
      "outputs": [
        {
          "output_type": "stream",
          "name": "stdout",
          "text": [
            "cube is  1728\n"
          ]
        }
      ]
    },
    {
      "cell_type": "markdown",
      "source": [
        "Define a function that takes a list and prints a new list with no duplicate elements given in the first list."
      ],
      "metadata": {
        "id": "EWbQXeU5WpdZ"
      }
    },
    {
      "cell_type": "code",
      "source": [
        "def list(L):\n",
        "  L_fnl=[]\n",
        "  for i in L:\n",
        "    b=L.count(i)\n",
        "    if b>1:\n",
        "      L.remove(i)\n",
        "    else:\n",
        "      L_fnl.append(i)\n",
        "  print(L_fnl)\n",
        "  \n",
        "\n"
      ],
      "metadata": {
        "id": "Yf3oGbTyT7pZ"
      },
      "execution_count": null,
      "outputs": []
    },
    {
      "cell_type": "code",
      "source": [
        "list([2, 4, 5, 7, 2, 4, 8, 9])"
      ],
      "metadata": {
        "colab": {
          "base_uri": "https://localhost:8080/"
        },
        "id": "Vtql8-0q8gEJ",
        "outputId": "02c51958-1d87-4b1b-d423-63af4eb06f00"
      },
      "execution_count": null,
      "outputs": [
        {
          "output_type": "stream",
          "name": "stdout",
          "text": [
            "[5, 7, 2, 9]\n"
          ]
        }
      ]
    },
    {
      "cell_type": "markdown",
      "source": [
        "Define a function that checks whether a passed string is palindrome or not."
      ],
      "metadata": {
        "id": "aU7jXWoHW4AR"
      }
    },
    {
      "cell_type": "code",
      "source": [],
      "metadata": {
        "id": "GsVU4vJc-zle"
      },
      "execution_count": null,
      "outputs": []
    }
  ]
}