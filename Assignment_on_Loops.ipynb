{
  "nbformat": 4,
  "nbformat_minor": 0,
  "metadata": {
    "colab": {
      "provenance": []
    },
    "kernelspec": {
      "name": "python3",
      "display_name": "Python 3"
    },
    "language_info": {
      "name": "python"
    }
  },
  "cells": [
    {
      "cell_type": "markdown",
      "source": [
        "Write a program which accepts month's name as input and display the number of days in the month as output "
      ],
      "metadata": {
        "id": "MdAkQQ_Y4wwG"
      }
    },
    {
      "cell_type": "code",
      "source": [
        "month=input(\"Enter the month \")\n",
        "Dict={\"Jan\":31, \"Feb\":28, \"Mar\":31, \"Apr\":30, \"May\":31, \"June\":30, \"July\":31, \"Aug\":31, \"Sep\":30, \"Oct\":31, \"Nov\":30, \"Dec\":31}\n",
        "for i in Dict:\n",
        "  if i==month:\n",
        "    print(Dict[i])"
      ],
      "metadata": {
        "id": "Wy7YDWmc7jML",
        "colab": {
          "base_uri": "https://localhost:8080/"
        },
        "outputId": "9d3f2367-64a8-449c-da1d-bc438a53adc3"
      },
      "execution_count": null,
      "outputs": [
        {
          "output_type": "stream",
          "name": "stdout",
          "text": [
            "Enter the month Feb\n",
            "28\n"
          ]
        }
      ]
    },
    {
      "cell_type": "markdown",
      "source": [
        "Take any word as input from the user and count the number of vowels in the word"
      ],
      "metadata": {
        "id": "Q8cCBC198J6M"
      }
    },
    {
      "cell_type": "code",
      "source": [
        "word=input(\"Enter the word \")\n",
        "vowels=['a', 'e', 'i', 'o', 'u']\n",
        "count=0\n",
        "for i in word:\n",
        "  if i in vowels:\n",
        "    count=count+1\n",
        "    continue\n",
        "print(count)"
      ],
      "metadata": {
        "id": "gY_oIsw88KU6",
        "colab": {
          "base_uri": "https://localhost:8080/"
        },
        "outputId": "b94023c1-3bb3-48b0-fe55-d75d89fa3ed2"
      },
      "execution_count": null,
      "outputs": [
        {
          "output_type": "stream",
          "name": "stdout",
          "text": [
            "Enter the word querty\n",
            "2\n"
          ]
        }
      ]
    },
    {
      "cell_type": "markdown",
      "source": [
        "Write a program to separate even and odd numbers in two distinct lists from a list of numbers of your choice "
      ],
      "metadata": {
        "id": "1ugWwVXd49OI"
      }
    },
    {
      "cell_type": "code",
      "source": [
        "l1=[1, 2, 4, 7, 9, 23, 45, 103, 19]\n",
        "Lodd=[]\n",
        "Leven=[]\n",
        "for i in l1:\n",
        "  if i%2==0:\n",
        "    Leven.append(i)\n",
        "  else:\n",
        "    Lodd.append(i)\n",
        "print(Leven)\n",
        "print(Lodd)"
      ],
      "metadata": {
        "id": "dP7_bUh37i2D",
        "colab": {
          "base_uri": "https://localhost:8080/"
        },
        "outputId": "669e6f80-2db2-4c82-ded0-34ebbe3fa675"
      },
      "execution_count": null,
      "outputs": [
        {
          "output_type": "stream",
          "name": "stdout",
          "text": [
            "[2, 4]\n",
            "[1, 7, 9, 23, 45, 103, 19]\n"
          ]
        }
      ]
    },
    {
      "cell_type": "markdown",
      "source": [
        "Write a program that appends datatype of elements from a list to a separate list"
      ],
      "metadata": {
        "id": "uaqnGrhs49Mf"
      }
    },
    {
      "cell_type": "code",
      "source": [
        "L1=[1,3,56, 'Hello', 23.45, \"World\", 12.34, \"Sajeeth\", 1.45, \"Change\", \"seen\", 0.0003, 100]\n",
        "Lchar=[]\n",
        "LFloat=[]\n",
        "LInt=[]\n",
        "for i in L1:\n",
        "  if type(i)==int:\n",
        "    LInt.append(i)\n",
        "  elif type(i)==float:\n",
        "    LFloat.append(i)\n",
        "  else:\n",
        "    Lchar.append(i)\n",
        "print(Lchar)\n",
        "print(LFloat)\n",
        "print(LInt)"
      ],
      "metadata": {
        "id": "RH9DVuFT7ibC",
        "colab": {
          "base_uri": "https://localhost:8080/"
        },
        "outputId": "89991b68-7f73-4567-c6d6-954f8fc77aa1"
      },
      "execution_count": null,
      "outputs": [
        {
          "output_type": "stream",
          "name": "stdout",
          "text": [
            "['Hello', 'World', 'Sajeeth', 'Change', 'seen']\n",
            "[23.45, 12.34, 1.45, 0.0003]\n",
            "[1, 3, 56, 100]\n"
          ]
        }
      ]
    },
    {
      "cell_type": "markdown",
      "source": [
        "Take a number as input from the user and find its factorial"
      ],
      "metadata": {
        "id": "qhUdGd6s4837"
      }
    },
    {
      "cell_type": "code",
      "source": [
        "num=int(input(\"Enter the Number \"))\n",
        "itemp=1\n",
        "for i in range(1, num+1):\n",
        "  itemp=i*itemp\n",
        "print(\"The Factorial of the number is \",itemp)\n",
        "\n"
      ],
      "metadata": {
        "id": "ga1yDKM87iJa",
        "colab": {
          "base_uri": "https://localhost:8080/"
        },
        "outputId": "77887bbf-c72b-49fd-c286-f3479111abf7"
      },
      "execution_count": null,
      "outputs": [
        {
          "output_type": "stream",
          "name": "stdout",
          "text": [
            "Enter the Number 8\n",
            "The Factorial of the number is  40320\n"
          ]
        }
      ]
    },
    {
      "cell_type": "markdown",
      "source": [
        "Write a program to display only those numbers from a list that satisfies the following conditions:\n",
        "\n",
        "1. The number must be divisible by 7\n",
        "\n",
        "2. If the number is greater than 140 then skip it and move to the next number in the list\n",
        "\n",
        "3. If the number in the list is greater than 630 then stop the loop"
      ],
      "metadata": {
        "id": "ddMu0Pj1643Y"
      }
    },
    {
      "cell_type": "code",
      "source": [
        "L1=[1, 34, 14, 32, 67, 165, 750, 23, 56, 200, 187, 230, 507, 234, 659, 745, 109, 567, 700, 1000]\n",
        "Ldiv7=[]\n",
        "Lgt140=[]\n",
        "Lgt630=[]\n",
        "for i in L1:\n",
        "  if i%7==0:\n",
        "    Ldiv7.append(i)\n",
        "for i in L1:\n",
        "  if i>140:\n",
        "    continue\n",
        "  Lgt140.append(i)\n",
        "for i in L1:\n",
        "  if i>630:\n",
        "    break\n",
        "  Lgt630.append(i)\n",
        "\n",
        "print(Ldiv7)\n",
        "print(Lgt140)\n",
        "print(Lgt630)"
      ],
      "metadata": {
        "colab": {
          "base_uri": "https://localhost:8080/"
        },
        "id": "Dh1mOaMwuof1",
        "outputId": "28c59c3d-3a71-4060-9f72-2359a79e1093"
      },
      "execution_count": null,
      "outputs": [
        {
          "output_type": "stream",
          "name": "stdout",
          "text": [
            "[14, 56, 567, 700]\n",
            "[1, 34, 14, 32, 67, 23, 56, 109]\n",
            "[1, 34, 14, 32, 67, 165]\n"
          ]
        }
      ]
    },
    {
      "cell_type": "code",
      "source": [],
      "metadata": {
        "id": "UotbR8T1rq1x"
      },
      "execution_count": null,
      "outputs": []
    }
  ]
}